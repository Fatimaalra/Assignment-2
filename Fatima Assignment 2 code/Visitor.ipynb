{
 "cells": [
  {
   "cell_type": "code",
   "execution_count": 2,
   "id": "fff36ef0",
   "metadata": {},
   "outputs": [],
   "source": [
    "class Visitor:\n",
    "    # Constructor\n",
    "    def __init__(self, name, age, visitor_category):\n",
    "        # Initialize instance variables\n",
    "        self._name = name  # Name of the visitor\n",
    "        self._age = age  # Age of the visitor\n",
    "        self._visitor_category = visitor_category  # Category of the visitor\n",
    "\n",
    "    # Getter methods\n",
    "    def get_name(self):\n",
    "        return self._name  # Get the name of the visitor\n",
    "\n",
    "    def get_age(self):\n",
    "        return self._age  # Get the age of the visitor\n",
    "\n",
    "    def get_visitor_category(self):\n",
    "        return self._visitor_category  # Get the category of the visitor\n",
    "\n",
    "    # Setter methods\n",
    "    def set_name(self, name):\n",
    "        self._name = name  # Set the name of the visitor\n",
    "\n",
    "    def set_age(self, age):\n",
    "        self._age = age  # Set the age of the visitor\n",
    "\n",
    "    def set_visitor_category(self, visitor_category):\n",
    "        self._visitor_category = visitor_category  # Set the category of the visitor\n"
   ]
  },
  {
   "cell_type": "code",
   "execution_count": null,
   "id": "8ddf1bba",
   "metadata": {},
   "outputs": [],
   "source": []
  }
 ],
 "metadata": {
  "kernelspec": {
   "display_name": "Python 3 (ipykernel)",
   "language": "python",
   "name": "python3"
  },
  "language_info": {
   "codemirror_mode": {
    "name": "ipython",
    "version": 3
   },
   "file_extension": ".py",
   "mimetype": "text/x-python",
   "name": "python",
   "nbconvert_exporter": "python",
   "pygments_lexer": "ipython3",
   "version": "3.10.9"
  }
 },
 "nbformat": 4,
 "nbformat_minor": 5
}
