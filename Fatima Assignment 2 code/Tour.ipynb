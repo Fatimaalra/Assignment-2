{
 "cells": [
  {
   "cell_type": "code",
   "execution_count": 2,
   "id": "6dc32d78",
   "metadata": {},
   "outputs": [],
   "source": [
    "class Tour:\n",
    "    # Constructor\n",
    "    def __init__(self, date, guide):\n",
    "        # Initialize instance variables\n",
    "        self._date = date  # Date of the tour\n",
    "        self._guide = guide  # Guide leading the tour\n",
    "\n",
    "    # Getter methods\n",
    "    def get_date(self):\n",
    "        return self._date  # Get the date of the tour\n",
    "\n",
    "    def get_guide(self):\n",
    "        return self._guide  # Get the guide leading the tour\n",
    "\n",
    "    # Setter methods\n",
    "    def set_date(self, date):\n",
    "        self._date = date  # Set the date of the tour\n",
    "\n",
    "    def set_guide(self, guide):\n",
    "        self._guide = guide  # Set the guide leading the tour\n"
   ]
  },
  {
   "cell_type": "code",
   "execution_count": null,
   "id": "e4c26bff",
   "metadata": {},
   "outputs": [],
   "source": []
  }
 ],
 "metadata": {
  "kernelspec": {
   "display_name": "Python 3 (ipykernel)",
   "language": "python",
   "name": "python3"
  },
  "language_info": {
   "codemirror_mode": {
    "name": "ipython",
    "version": 3
   },
   "file_extension": ".py",
   "mimetype": "text/x-python",
   "name": "python",
   "nbconvert_exporter": "python",
   "pygments_lexer": "ipython3",
   "version": "3.10.9"
  }
 },
 "nbformat": 4,
 "nbformat_minor": 5
}
