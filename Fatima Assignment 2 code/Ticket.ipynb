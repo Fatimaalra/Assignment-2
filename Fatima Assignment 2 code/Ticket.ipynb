{
 "cells": [
  {
   "cell_type": "code",
   "execution_count": 2,
   "id": "be064b7c",
   "metadata": {},
   "outputs": [],
   "source": [
    "class Ticket:\n",
    "    # Constructor\n",
    "    def __init__(self, price, visitor, event_details):\n",
    "        # Initialize instance variables\n",
    "        self._price = price  # Price of the ticket\n",
    "        self._visitor = visitor  # Visitor associated with the ticket\n",
    "        self._event_details = event_details  # Details of the event related to the ticket\n",
    "\n",
    "    # Getter methods\n",
    "    def get_price(self):\n",
    "        return self._price  # Get the price of the ticket\n",
    "\n",
    "    def get_visitor(self):\n",
    "        return self._visitor  # Get the visitor associated with the ticket\n",
    "\n",
    "    def get_event_details(self):\n",
    "        return self._event_details  # Get the event details related to the ticket\n",
    "\n",
    "    # Setter methods\n",
    "    def set_price(self, price):\n",
    "        self._price = price  # Set the price of the ticket\n",
    "\n",
    "    def set_visitor(self, visitor):\n",
    "        self._visitor = visitor  # Set the visitor associated with the ticket\n",
    "\n",
    "    def set_event_details(self, event_details):\n",
    "        self._event_details = event_details  # Set the event details related to the ticket\n"
   ]
  },
  {
   "cell_type": "code",
   "execution_count": null,
   "id": "9c064fc5",
   "metadata": {},
   "outputs": [],
   "source": []
  }
 ],
 "metadata": {
  "kernelspec": {
   "display_name": "Python 3 (ipykernel)",
   "language": "python",
   "name": "python3"
  },
  "language_info": {
   "codemirror_mode": {
    "name": "ipython",
    "version": 3
   },
   "file_extension": ".py",
   "mimetype": "text/x-python",
   "name": "python",
   "nbconvert_exporter": "python",
   "pygments_lexer": "ipython3",
   "version": "3.10.9"
  }
 },
 "nbformat": 4,
 "nbformat_minor": 5
}
