{
 "cells": [
  {
   "cell_type": "code",
   "execution_count": 6,
   "id": "bf2bf9ce",
   "metadata": {},
   "outputs": [
    {
     "name": "stdout",
     "output_type": "stream",
     "text": [
      "Artwork Title: The Starry Night\n",
      "Exhibition Location: Main Hall\n",
      "Visitor Name: Fatima\n",
      "Ticket Price: 63.0\n",
      "Tour Date: 2024-03-17\n",
      "Special Event Duration: 120\n"
     ]
    }
   ],
   "source": [
    "from Artwork import Artwork\n",
    "from Exhibition import Exhibition\n",
    "from Visitor import Visitor\n",
    "from Ticket import Ticket\n",
    "from Tour import Tour\n",
    "from SpecialEvent import SpecialEvent\n",
    "\n",
    "# Create instances\n",
    "artwork = Artwork(\"The Starry Night\", \"Vincent van Gogh\", \"1889\", \"Post-Impressionist masterpiece\", \"Permanent Gallery\")\n",
    "exhibition = Exhibition(\"Main Hall\", 30)\n",
    "visitor = Visitor(\"Fatima\", 25, \"Adult\")\n",
    "ticket = Ticket(63.00, visitor, \"Exhibition - The Starry Night\")\n",
    "tour = Tour(\"2024-03-17\", \"Tour Guide 1\")\n",
    "special_event = SpecialEvent(\"2024-04-20\", \"Concert Hall\", 120)\n",
    "\n",
    "# Print information\n",
    "print(\"Artwork Title:\", artwork.get_title())\n",
    "print(\"Exhibition Location:\", exhibition.get_location())\n",
    "print(\"Visitor Name:\", visitor.get_name())\n",
    "print(\"Ticket Price:\", ticket.get_price())\n",
    "print(\"Tour Date:\", tour.get_date())\n",
    "print(\"Special Event Duration:\", special_event.get_duration())\n"
   ]
  },
  {
   "cell_type": "code",
   "execution_count": null,
   "id": "1140ced1",
   "metadata": {},
   "outputs": [],
   "source": []
  },
  {
   "cell_type": "code",
   "execution_count": null,
   "id": "94b19c72",
   "metadata": {},
   "outputs": [],
   "source": []
  }
 ],
 "metadata": {
  "kernelspec": {
   "display_name": "Python 3 (ipykernel)",
   "language": "python",
   "name": "python3"
  },
  "language_info": {
   "codemirror_mode": {
    "name": "ipython",
    "version": 3
   },
   "file_extension": ".py",
   "mimetype": "text/x-python",
   "name": "python",
   "nbconvert_exporter": "python",
   "pygments_lexer": "ipython3",
   "version": "3.10.9"
  }
 },
 "nbformat": 4,
 "nbformat_minor": 5
}
