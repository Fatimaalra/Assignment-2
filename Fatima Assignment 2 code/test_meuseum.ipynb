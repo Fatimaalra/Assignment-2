{
 "cells": [
  {
   "cell_type": "code",
   "execution_count": 15,
   "id": "d2749e2e",
   "metadata": {},
   "outputs": [
    {
     "name": "stdout",
     "output_type": "stream",
     "text": [
      "\n",
      "\t--------------Test 1: Adding artwork to museum passed--------------------------\n",
      "Title: Mona Lisa\n",
      "Artist: Leonardo da Vinci\n",
      "Date of Creation: 1503\n",
      "Historical Significance: Iconic portrait\n",
      "Exhibition Location: Permanent Gallery\n",
      "\n",
      "\t--------------Test 2: Opening a new exhibition passed--------------------------\n",
      "Location: Main Hall\n",
      "Duration: 30 days\n",
      "\n",
      "\t--------------Test 3: Purchasing tickets passed--------------------------\n",
      "Price: $63.0\n",
      "Visitor Name: Fatima\n",
      "Event Details: Exhibition - Mona Lisa\n",
      "\n",
      "\t--------------Test 4: Displaying payment receipt passed--------------------------\n",
      "Payment Receipt:\n",
      "Ticket 1: Exhibition - Mona Lisa - 63.0\n",
      "Ticket 2: Special Event - Concert - 50.0\n",
      "Total Price: 113.0\n"
     ]
    }
   ],
   "source": [
    "# Import the classes\n",
    "from Artwork import Artwork\n",
    "from Exhibition import Exhibition\n",
    "from Visitor import Visitor\n",
    "from Ticket import Ticket\n",
    "from Tour import Tour\n",
    "from SpecialEvent import SpecialEvent\n",
    "\n",
    "# Define a function to execute each test case\n",
    "def run_tests():\n",
    "    # Test adding artwork to museum\n",
    "    artwork = Artwork(\"Mona Lisa\", \"Leonardo da Vinci\", \"1503\", \"Iconic portrait\", \"Permanent Gallery\")\n",
    "    assert artwork.get_title() == \"Mona Lisa\"  # Use the getter method\n",
    "    assert artwork.get_artist() == \"Leonardo da Vinci\"  # Use the getter method\n",
    "    assert artwork.get_date_of_creation() == \"1503\"  # Use the getter method\n",
    "    assert artwork.get_historical_significance() == \"Iconic portrait\"  # Use the getter method\n",
    "    assert artwork.get_exhibition_location() == \"Permanent Gallery\"  # Use the getter method\n",
    "    print(\"\\n\\t--------------Test 1: Adding artwork to museum passed--------------------------\")\n",
    "    print(f\"Title: {artwork.get_title()}\")\n",
    "    print(f\"Artist: {artwork.get_artist()}\")\n",
    "    print(f\"Date of Creation: {artwork.get_date_of_creation()}\")\n",
    "    print(f\"Historical Significance: {artwork.get_historical_significance()}\")\n",
    "    print(f\"Exhibition Location: {artwork.get_exhibition_location()}\")\n",
    "\n",
    "    # Test opening a new exhibition\n",
    "    exhibition = Exhibition(\"Main Hall\", 30)\n",
    "    assert exhibition.get_location() == \"Main Hall\"  # Use the getter method\n",
    "    assert exhibition.get_duration() == 30  # Use the getter method\n",
    "    print(\"\\n\\t--------------Test 2: Opening a new exhibition passed--------------------------\")\n",
    "    print(f\"Location: {exhibition.get_location()}\")\n",
    "    print(f\"Duration: {exhibition.get_duration()} days\")\n",
    "\n",
    "    # Test purchasing tickets\n",
    "    visitor = Visitor(\"Fatima\", 30, \"Adult\")\n",
    "    ticket = Ticket(63.00, visitor, \"Exhibition - Mona Lisa\")\n",
    "    assert ticket.get_price() == 63.00  # Use the getter method\n",
    "    assert ticket.get_visitor().get_name() == \"Fatima\"  # Use the getter method\n",
    "    assert ticket.get_event_details() == \"Exhibition - Mona Lisa\"  # Use the getter method\n",
    "    print(\"\\n\\t--------------Test 3: Purchasing tickets passed--------------------------\")\n",
    "    print(f\"Price: ${ticket.get_price()}\")\n",
    "    print(f\"Visitor Name: {ticket.get_visitor().get_name()}\")\n",
    "    print(f\"Event Details: {ticket.get_event_details()}\")\n",
    "\n",
    "    # Test displaying payment receipt\n",
    "    visitor = Visitor(\"Jane Smith\", 25, \"Adult\")\n",
    "    ticket1 = Ticket(63.00, visitor, \"Exhibition - Mona Lisa\")\n",
    "    ticket2 = Ticket(50.00, visitor, \"Special Event - Concert\")\n",
    "    total_price = ticket1.get_price() + ticket2.get_price()  # Use the getter method\n",
    "    payment_receipt = f\"Payment Receipt:\\nTicket 1: {ticket1.get_event_details()} - {ticket1.get_price()}\\nTicket 2: {ticket2.get_event_details()} - {ticket2.get_price()}\\nTotal Price: {total_price}\"\n",
    "    assert payment_receipt == \"Payment Receipt:\\nTicket 1: Exhibition - Mona Lisa - 63.0\\nTicket 2: Special Event - Concert - 50.0\\nTotal Price: 113.0\"\n",
    "    print(\"\\n\\t--------------Test 4: Displaying payment receipt passed--------------------------\")\n",
    " \n",
    "    print(payment_receipt)\n",
    "\n",
    "# Run the tests\n",
    "run_tests()\n"
   ]
  },
  {
   "cell_type": "code",
   "execution_count": null,
   "id": "32fdc69b",
   "metadata": {},
   "outputs": [],
   "source": []
  }
 ],
 "metadata": {
  "kernelspec": {
   "display_name": "Python 3 (ipykernel)",
   "language": "python",
   "name": "python3"
  },
  "language_info": {
   "codemirror_mode": {
    "name": "ipython",
    "version": 3
   },
   "file_extension": ".py",
   "mimetype": "text/x-python",
   "name": "python",
   "nbconvert_exporter": "python",
   "pygments_lexer": "ipython3",
   "version": "3.10.9"
  }
 },
 "nbformat": 4,
 "nbformat_minor": 5
}
