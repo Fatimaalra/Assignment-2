{
 "cells": [
  {
   "cell_type": "code",
   "execution_count": 2,
   "id": "c1776ab1",
   "metadata": {},
   "outputs": [],
   "source": [
    "class Exhibition:\n",
    "    # Constructor\n",
    "    def __init__(self, location, duration):\n",
    "        # Initialize instance variables\n",
    "        self._artworks = []  # List to store artworks in the exhibition\n",
    "        self._location = location  # Location of the exhibition\n",
    "        self._duration = duration  # Duration of the exhibition in days\n",
    "\n",
    "    # Getter methods\n",
    "    def get_artworks(self):\n",
    "        return self._artworks  # Get the list of artworks in the exhibition\n",
    "\n",
    "    def get_location(self):\n",
    "        return self._location  # Get the location of the exhibition\n",
    "\n",
    "    def get_duration(self):\n",
    "        return self._duration  # Get the duration of the exhibition\n",
    "\n",
    "    # Setter methods\n",
    "    def set_location(self, location):\n",
    "        self._location = location  # Set the location of the exhibition\n",
    "\n",
    "    def set_duration(self, duration):\n",
    "        self._duration = duration  # Set the duration of the exhibition\n",
    "\n",
    "    # Other methods\n",
    "    def add_artwork(self, artwork):\n",
    "        self._artworks.append(artwork)  # Add an artwork to the exhibition\n",
    "\n",
    "    def remove_artwork(self, artwork):\n",
    "        self._artworks.remove(artwork)  # Remove an artwork from the exhibition\n"
   ]
  },
  {
   "cell_type": "code",
   "execution_count": null,
   "id": "5b910781",
   "metadata": {},
   "outputs": [],
   "source": []
  }
 ],
 "metadata": {
  "kernelspec": {
   "display_name": "Python 3 (ipykernel)",
   "language": "python",
   "name": "python3"
  },
  "language_info": {
   "codemirror_mode": {
    "name": "ipython",
    "version": 3
   },
   "file_extension": ".py",
   "mimetype": "text/x-python",
   "name": "python",
   "nbconvert_exporter": "python",
   "pygments_lexer": "ipython3",
   "version": "3.10.9"
  }
 },
 "nbformat": 4,
 "nbformat_minor": 5
}
