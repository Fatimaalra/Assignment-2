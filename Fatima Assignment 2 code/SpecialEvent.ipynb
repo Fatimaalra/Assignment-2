{
 "cells": [
  {
   "cell_type": "code",
   "execution_count": 2,
   "id": "dad4de79",
   "metadata": {},
   "outputs": [],
   "source": [
    "class SpecialEvent:\n",
    "    # Constructor\n",
    "    def __init__(self, date, location, duration):\n",
    "        # Initialize instance variables\n",
    "        self._date = date  # Date of the special event\n",
    "        self._location = location  # Location of the special event\n",
    "        self._duration = duration  # Duration of the special event in hours\n",
    "\n",
    "    # Getter methods\n",
    "    def get_date(self):\n",
    "        return self._date  # Get the date of the special event\n",
    "\n",
    "    def get_location(self):\n",
    "        return self._location  # Get the location of the special event\n",
    "\n",
    "    def get_duration(self):\n",
    "        return self._duration  # Get the duration of the special event\n",
    "\n",
    "    # Setter methods\n",
    "    def set_date(self, date):\n",
    "        self._date = date  # Set the date of the special event\n",
    "\n",
    "    def set_location(self, location):\n",
    "        self._location = location  # Set the location of the special event\n",
    "\n",
    "    def set_duration(self, duration):\n",
    "        self._duration = duration  # Set the duration of the special event\n"
   ]
  },
  {
   "cell_type": "code",
   "execution_count": null,
   "id": "fc575895",
   "metadata": {},
   "outputs": [],
   "source": []
  }
 ],
 "metadata": {
  "kernelspec": {
   "display_name": "Python 3 (ipykernel)",
   "language": "python",
   "name": "python3"
  },
  "language_info": {
   "codemirror_mode": {
    "name": "ipython",
    "version": 3
   },
   "file_extension": ".py",
   "mimetype": "text/x-python",
   "name": "python",
   "nbconvert_exporter": "python",
   "pygments_lexer": "ipython3",
   "version": "3.10.9"
  }
 },
 "nbformat": 4,
 "nbformat_minor": 5
}
