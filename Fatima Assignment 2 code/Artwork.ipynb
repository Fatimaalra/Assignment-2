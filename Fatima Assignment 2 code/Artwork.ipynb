{
 "cells": [
  {
   "cell_type": "code",
   "execution_count": 2,
   "id": "c33e76ba",
   "metadata": {},
   "outputs": [],
   "source": [
    "class Artwork:\n",
    "    # Constructor\n",
    "    def __init__(self, title, artist, date_of_creation, historical_significance, exhibition_location):\n",
    "        # Initialize instance variables\n",
    "        self._title = title  # Title of the artwork\n",
    "        self._artist = artist  # Artist of the artwork\n",
    "        self._date_of_creation = date_of_creation  # Date of creation of the artwork\n",
    "        self._historical_significance = historical_significance  # Historical significance of the artwork\n",
    "        self._exhibition_location = exhibition_location  # Exhibition location of the artwork\n",
    "\n",
    "    # Getter methods\n",
    "    def get_title(self):\n",
    "        return self._title  # Get the title of the artwork\n",
    "\n",
    "    def get_artist(self):\n",
    "        return self._artist  # Get the artist of the artwork\n",
    "\n",
    "    def get_date_of_creation(self):\n",
    "        return self._date_of_creation  # Get the date of creation of the artwork\n",
    "\n",
    "    def get_historical_significance(self):\n",
    "        return self._historical_significance  # Get the historical significance of the artwork\n",
    "\n",
    "    def get_exhibition_location(self):\n",
    "        return self._exhibition_location  # Get the exhibition location of the artwork\n",
    "\n",
    "    # Setter methods\n",
    "    def set_title(self, title):\n",
    "        self._title = title  # Set the title of the artwork\n",
    "\n",
    "    def set_artist(self, artist):\n",
    "        self._artist = artist  # Set the artist of the artwork\n",
    "\n",
    "    def set_date_of_creation(self, date_of_creation):\n",
    "        self._date_of_creation = date_of_creation  # Set the date of creation of the artwork\n",
    "\n",
    "    def set_historical_significance(self, historical_significance):\n",
    "        self._historical_significance = historical_significance  # Set the historical significance of the artwork\n",
    "\n",
    "    def set_exhibition_location(self, exhibition_location):\n",
    "        self._exhibition_location = exhibition_location  # Set the exhibition location of the artwork\n"
   ]
  },
  {
   "cell_type": "code",
   "execution_count": null,
   "id": "4cae3690",
   "metadata": {},
   "outputs": [],
   "source": []
  }
 ],
 "metadata": {
  "kernelspec": {
   "display_name": "Python 3 (ipykernel)",
   "language": "python",
   "name": "python3"
  },
  "language_info": {
   "codemirror_mode": {
    "name": "ipython",
    "version": 3
   },
   "file_extension": ".py",
   "mimetype": "text/x-python",
   "name": "python",
   "nbconvert_exporter": "python",
   "pygments_lexer": "ipython3",
   "version": "3.10.9"
  }
 },
 "nbformat": 4,
 "nbformat_minor": 5
}
